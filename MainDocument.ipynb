{
 "cells": [
  {
   "cell_type": "markdown",
   "metadata": {},
   "source": [
    "# Monthly Payment Project\n",
    "\n",
    "## Car of Choice\n",
    "\n",
    "The target car of this project is the Volkswagen e-Golf, an electric hatchback with an MSRP of $30495 from [its official website](http://www.vw.com/models/e-golf/section/masthead/).\n",
    "\n",
    "## Loan Details\n",
    "\n",
    "This project uses Auto Loan Rates from [Bank of America](https://www.bankofamerica.com/auto-loans/auto-loan-rates/), which offers an APR of 3.09\\% for new cars from the dealer.\n",
    "\n",
    "## Function Definitions\n",
    "\n",
    "Tables below are generated with Python 3. For problem \\#1, the following function $p(x)$ calculates the full amount paid for a monthly payment of $x$ dollars for 36 months:"
   ]
  },
  {
   "cell_type": "code",
   "execution_count": null,
   "metadata": {},
   "outputs": [],
   "source": []
  }
 ],
 "metadata": {
  "kernelspec": {
   "display_name": "Python 3",
   "language": "python",
   "name": "python3"
  },
  "language_info": {
   "codemirror_mode": {
    "name": "ipython",
    "version": 3
   },
   "file_extension": ".py",
   "mimetype": "text/x-python",
   "name": "python",
   "nbconvert_exporter": "python",
   "pygments_lexer": "ipython3",
   "version": "3.6.5"
  }
 },
 "nbformat": 4,
 "nbformat_minor": 2
}
