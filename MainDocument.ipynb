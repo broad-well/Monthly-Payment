{
 "cells": [
  {
   "cell_type": "markdown",
   "metadata": {},
   "source": [
    "# Monthly Payment Project\n",
    "\n",
    "## Car of Choice\n",
    "\n",
    "The target car of this project is the Volkswagen e-Golf, an electric hatchback with an MSRP of $30495 from [its official website](http://www.vw.com/models/e-golf/section/masthead/).\n",
    "\n",
    "## Loan Details\n",
    "\n",
    "This project uses Auto Loan Rates from [Bank of America](https://www.bankofamerica.com/auto-loans/auto-loan-rates/), which offers an APR of 3.09\\% for new cars from the dealer.\n",
    "\n",
    "## Function Definitions\n",
    "\n",
    "We know from our curriculum that the remaining balance function $b(x)$ where $x$ is the number of months passed with APR $r$ (compounded monthly), initial balance $i$ and monthly payment $p$ is defined as follows:\n",
    "\n",
    "$$b(x)=\n",
    "\\begin{cases}\n",
    "    i & x=0 \\\\\n",
    "    b(x-1)\\cdot(1+\\dfrac{r}{12})-p & x\\gt0\n",
    "\\end{cases}$$\n",
    "\n",
    "The compounding process can be reversed to determine the loan amount based on the total number of months taken ($x$) and the monthly payment ($p$). It is represented with the following form, with the APR from Bank of America substituting $r$:\n",
    "\n",
    "$$l(x,p)=\n",
    "\\begin{cases}\n",
    "    0 & x=0 \\\\\n",
    "    \\dfrac{l(x-1,p)+p}{1+\\frac{0.0309}{12}} & x\\gt0\n",
    "\\end{cases}$$\n",
    "\n",
    "Tables in this project are dynamically generated with Python 3. The following Python 3 code generates the table of Problem #1:\n"
   ]
  },
  {
   "cell_type": "code",
   "execution_count": 23,
   "metadata": {},
   "outputs": [
    {
     "data": {
      "text/html": [
       "<table>\n",
       "<tbody>\n",
       "<tr><td>Monthly Payment</td><td>Cost of Car       </td></tr>\n",
       "<tr><td>200            </td><td>6867.922007731467 </td></tr>\n",
       "<tr><td>210            </td><td>7211.318108118041 </td></tr>\n",
       "<tr><td>220            </td><td>7554.714208504613 </td></tr>\n",
       "<tr><td>230            </td><td>7898.110308891187 </td></tr>\n",
       "<tr><td>240            </td><td>8241.506409277761 </td></tr>\n",
       "<tr><td>250            </td><td>8584.902509664335 </td></tr>\n",
       "<tr><td>260            </td><td>8928.298610050912 </td></tr>\n",
       "<tr><td>270            </td><td>9271.694710437485 </td></tr>\n",
       "<tr><td>280            </td><td>9615.090810824056 </td></tr>\n",
       "<tr><td>290            </td><td>9958.486911210628 </td></tr>\n",
       "<tr><td>300            </td><td>10301.883011597203</td></tr>\n",
       "</tbody>\n",
       "</table>"
      ],
      "text/plain": [
       "<IPython.core.display.HTML object>"
      ]
     },
     "metadata": {},
     "output_type": "display_data"
    }
   ],
   "source": [
    "def l(x, p):\n",
    "    if x == 0:\n",
    "        return 0\n",
    "    else:\n",
    "        return (l(x-1, p) + p)/(1 + 0.0309/12)\n",
    "\n",
    "# Jupyter table generation\n",
    "\n",
    "from IPython.display import HTML, display\n",
    "import tabulate\n",
    "\n",
    "table = [['Monthly Payment', 'Cost of Car']]\n",
    "\n",
    "for p in range(200, 310, 10):\n",
    "    table.append([p, l(36, p)])\n",
    "\n",
    "display(HTML(tabulate.tabulate(table, tablefmt='html')))"
   ]
  },
  {
   "cell_type": "code",
   "execution_count": 22,
   "metadata": {},
   "outputs": [
    {
     "data": {
      "image/png": "[encoded data removed]",
      "text/plain": [
       "<Figure size 432x288 with 1 Axes>"
      ]
     },
     "metadata": {
      "needs_background": "light"
     },
     "output_type": "display_data"
    }
   ],
   "source": [
    "import matplotlib.pyplot as plt\n",
    "\n",
    "plt.plot(list(map(lambda t: t[0], table[1:])), list(map(lambda t: t[1], table[1:])))\n",
    "\n",
    "plt.xlabel('Monthly Payment')\n",
    "plt.ylabel('Cost of Car')\n",
    "plt.show()"
   ]
  },
  {
   "cell_type": "code",
   "execution_count": null,
   "metadata": {},
   "outputs": [],
   "source": []
  },
  {
   "cell_type": "code",
   "execution_count": null,
   "metadata": {},
   "outputs": [],
   "source": []
  },
  {
   "cell_type": "code",
   "execution_count": null,
   "metadata": {},
   "outputs": [],
   "source": []
  }
 ],
 "metadata": {
  "kernelspec": {
   "display_name": "Python 3",
   "language": "python",
   "name": "python3"
  },
  "language_info": {
   "codemirror_mode": {
    "name": "ipython",
    "version": 3
   },
   "file_extension": ".py",
   "mimetype": "text/x-python",
   "name": "python",
   "nbconvert_exporter": "python",
   "pygments_lexer": "ipython3",
   "version": "3.7.0"
  }
 },
 "nbformat": 4,
 "nbformat_minor": 2
}
